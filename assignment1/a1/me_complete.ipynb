{
 "cells": [
  {
   "cell_type": "code",
   "execution_count": 1,
   "metadata": {},
   "outputs": [
    {
     "name": "stderr",
     "output_type": "stream",
     "text": [
      "[nltk_data] Error loading reuters: <urlopen error Remote end closed\n",
      "[nltk_data]     connection without response>\n"
     ]
    }
   ],
   "source": [
    "import sys\n",
    "assert sys.version_info[0]==3\n",
    "assert sys.version_info[1] >= 5\n",
    "\n",
    "from gensim.models import KeyedVectors\n",
    "from gensim.test.utils import datapath\n",
    "import pprint\n",
    "import matplotlib.pyplot as plt\n",
    "plt.rcParams['figure.figsize'] = [10, 5]\n",
    "import nltk\n",
    "nltk.download('reuters')\n",
    "from nltk.corpus import reuters\n",
    "import numpy as np\n",
    "import random\n",
    "import scipy as sp\n",
    "from sklearn.decomposition import TruncatedSVD\n",
    "from sklearn.decomposition import PCA\n",
    "\n",
    "START_TOKEN = '<START>'\n",
    "END_TOKEN = '<END>'\n",
    "\n",
    "np.random.seed(0)\n",
    "random.seed(0)"
   ]
  },
  {
   "cell_type": "code",
   "execution_count": 2,
   "metadata": {},
   "outputs": [],
   "source": [
    "def read_corpus(category=\"crude\"):\n",
    "    \"\"\"\n",
    "    Read files from specified Reuter's category\n",
    "    params:\n",
    "            category(string): category name\n",
    "    return:\n",
    "            list of lists,with words from each of processed files\n",
    "    \"\"\"\n",
    "    files=reuters.fileids(category)\n",
    "    return [[START_TOKEN]+[w.lower() for w in list(reuters.words(f))]+[END_TOKEN] for f in files]\n",
    "    "
   ]
  },
  {
   "cell_type": "code",
   "execution_count": 3,
   "metadata": {},
   "outputs": [
    {
     "name": "stdout",
     "output_type": "stream",
     "text": [
      "[['<START>', 'japan', 'to', 'revise', 'long', '-', 'term', 'energy', 'demand', 'downwards', 'the',\n",
      "  'ministry', 'of', 'international', 'trade', 'and', 'industry', '(', 'miti', ')', 'will', 'revise',\n",
      "  'its', 'long', '-', 'term', 'energy', 'supply', '/', 'demand', 'outlook', 'by', 'august', 'to',\n",
      "  'meet', 'a', 'forecast', 'downtrend', 'in', 'japanese', 'energy', 'demand', ',', 'ministry',\n",
      "  'officials', 'said', '.', 'miti', 'is', 'expected', 'to', 'lower', 'the', 'projection', 'for',\n",
      "  'primary', 'energy', 'supplies', 'in', 'the', 'year', '2000', 'to', '550', 'mln', 'kilolitres',\n",
      "  '(', 'kl', ')', 'from', '600', 'mln', ',', 'they', 'said', '.', 'the', 'decision', 'follows',\n",
      "  'the', 'emergence', 'of', 'structural', 'changes', 'in', 'japanese', 'industry', 'following',\n",
      "  'the', 'rise', 'in', 'the', 'value', 'of', 'the', 'yen', 'and', 'a', 'decline', 'in', 'domestic',\n",
      "  'electric', 'power', 'demand', '.', 'miti', 'is', 'planning', 'to', 'work', 'out', 'a', 'revised',\n",
      "  'energy', 'supply', '/', 'demand', 'outlook', 'through', 'deliberations', 'of', 'committee',\n",
      "  'meetings', 'of', 'the', 'agency', 'of', 'natural', 'resources', 'and', 'energy', ',', 'the',\n",
      "  'officials', 'said', '.', 'they', 'said', 'miti', 'will', 'also', 'review', 'the', 'breakdown',\n",
      "  'of', 'energy', 'supply', 'sources', ',', 'including', 'oil', ',', 'nuclear', ',', 'coal', 'and',\n",
      "  'natural', 'gas', '.', 'nuclear', 'energy', 'provided', 'the', 'bulk', 'of', 'japan', \"'\", 's',\n",
      "  'electric', 'power', 'in', 'the', 'fiscal', 'year', 'ended', 'march', '31', ',', 'supplying',\n",
      "  'an', 'estimated', '27', 'pct', 'on', 'a', 'kilowatt', '/', 'hour', 'basis', ',', 'followed',\n",
      "  'by', 'oil', '(', '23', 'pct', ')', 'and', 'liquefied', 'natural', 'gas', '(', '21', 'pct', '),',\n",
      "  'they', 'noted', '.', '<END>'],\n",
      " ['<START>', 'energy', '/', 'u', '.', 's', '.', 'petrochemical', 'industry', 'cheap', 'oil',\n",
      "  'feedstocks', ',', 'the', 'weakened', 'u', '.', 's', '.', 'dollar', 'and', 'a', 'plant',\n",
      "  'utilization', 'rate', 'approaching', '90', 'pct', 'will', 'propel', 'the', 'streamlined', 'u',\n",
      "  '.', 's', '.', 'petrochemical', 'industry', 'to', 'record', 'profits', 'this', 'year', ',',\n",
      "  'with', 'growth', 'expected', 'through', 'at', 'least', '1990', ',', 'major', 'company',\n",
      "  'executives', 'predicted', '.', 'this', 'bullish', 'outlook', 'for', 'chemical', 'manufacturing',\n",
      "  'and', 'an', 'industrywide', 'move', 'to', 'shed', 'unrelated', 'businesses', 'has', 'prompted',\n",
      "  'gaf', 'corp', '&', 'lt', ';', 'gaf', '>,', 'privately', '-', 'held', 'cain', 'chemical', 'inc',\n",
      "  ',', 'and', 'other', 'firms', 'to', 'aggressively', 'seek', 'acquisitions', 'of', 'petrochemical',\n",
      "  'plants', '.', 'oil', 'companies', 'such', 'as', 'ashland', 'oil', 'inc', '&', 'lt', ';', 'ash',\n",
      "  '>,', 'the', 'kentucky', '-', 'based', 'oil', 'refiner', 'and', 'marketer', ',', 'are', 'also',\n",
      "  'shopping', 'for', 'money', '-', 'making', 'petrochemical', 'businesses', 'to', 'buy', '.', '\"',\n",
      "  'i', 'see', 'us', 'poised', 'at', 'the', 'threshold', 'of', 'a', 'golden', 'period', ',\"', 'said',\n",
      "  'paul', 'oreffice', ',', 'chairman', 'of', 'giant', 'dow', 'chemical', 'co', '&', 'lt', ';',\n",
      "  'dow', '>,', 'adding', ',', '\"', 'there', \"'\", 's', 'no', 'major', 'plant', 'capacity', 'being',\n",
      "  'added', 'around', 'the', 'world', 'now', '.', 'the', 'whole', 'game', 'is', 'bringing', 'out',\n",
      "  'new', 'products', 'and', 'improving', 'the', 'old', 'ones', '.\"', 'analysts', 'say', 'the',\n",
      "  'chemical', 'industry', \"'\", 's', 'biggest', 'customers', ',', 'automobile', 'manufacturers',\n",
      "  'and', 'home', 'builders', 'that', 'use', 'a', 'lot', 'of', 'paints', 'and', 'plastics', ',',\n",
      "  'are', 'expected', 'to', 'buy', 'quantities', 'this', 'year', '.', 'u', '.', 's', '.',\n",
      "  'petrochemical', 'plants', 'are', 'currently', 'operating', 'at', 'about', '90', 'pct',\n",
      "  'capacity', ',', 'reflecting', 'tighter', 'supply', 'that', 'could', 'hike', 'product', 'prices',\n",
      "  'by', '30', 'to', '40', 'pct', 'this', 'year', ',', 'said', 'john', 'dosher', ',', 'managing',\n",
      "  'director', 'of', 'pace', 'consultants', 'inc', 'of', 'houston', '.', 'demand', 'for', 'some',\n",
      "  'products', 'such', 'as', 'styrene', 'could', 'push', 'profit', 'margins', 'up', 'by', 'as',\n",
      "  'much', 'as', '300', 'pct', ',', 'he', 'said', '.', 'oreffice', ',', 'speaking', 'at', 'a',\n",
      "  'meeting', 'of', 'chemical', 'engineers', 'in', 'houston', ',', 'said', 'dow', 'would', 'easily',\n",
      "  'top', 'the', '741', 'mln', 'dlrs', 'it', 'earned', 'last', 'year', 'and', 'predicted', 'it',\n",
      "  'would', 'have', 'the', 'best', 'year', 'in', 'its', 'history', '.', 'in', '1985', ',', 'when',\n",
      "  'oil', 'prices', 'were', 'still', 'above', '25', 'dlrs', 'a', 'barrel', 'and', 'chemical',\n",
      "  'exports', 'were', 'adversely', 'affected', 'by', 'the', 'strong', 'u', '.', 's', '.', 'dollar',\n",
      "  ',', 'dow', 'had', 'profits', 'of', '58', 'mln', 'dlrs', '.', '\"', 'i', 'believe', 'the',\n",
      "  'entire', 'chemical', 'industry', 'is', 'headed', 'for', 'a', 'record', 'year', 'or', 'close',\n",
      "  'to', 'it', ',\"', 'oreffice', 'said', '.', 'gaf', 'chairman', 'samuel', 'heyman', 'estimated',\n",
      "  'that', 'the', 'u', '.', 's', '.', 'chemical', 'industry', 'would', 'report', 'a', '20', 'pct',\n",
      "  'gain', 'in', 'profits', 'during', '1987', '.', 'last', 'year', ',', 'the', 'domestic',\n",
      "  'industry', 'earned', 'a', 'total', 'of', '13', 'billion', 'dlrs', ',', 'a', '54', 'pct', 'leap',\n",
      "  'from', '1985', '.', 'the', 'turn', 'in', 'the', 'fortunes', 'of', 'the', 'once', '-', 'sickly',\n",
      "  'chemical', 'industry', 'has', 'been', 'brought', 'about', 'by', 'a', 'combination', 'of', 'luck',\n",
      "  'and', 'planning', ',', 'said', 'pace', \"'\", 's', 'john', 'dosher', '.', 'dosher', 'said', 'last',\n",
      "  'year', \"'\", 's', 'fall', 'in', 'oil', 'prices', 'made', 'feedstocks', 'dramatically', 'cheaper',\n",
      "  'and', 'at', 'the', 'same', 'time', 'the', 'american', 'dollar', 'was', 'weakening', 'against',\n",
      "  'foreign', 'currencies', '.', 'that', 'helped', 'boost', 'u', '.', 's', '.', 'chemical',\n",
      "  'exports', '.', 'also', 'helping', 'to', 'bring', 'supply', 'and', 'demand', 'into', 'balance',\n",
      "  'has', 'been', 'the', 'gradual', 'market', 'absorption', 'of', 'the', 'extra', 'chemical',\n",
      "  'manufacturing', 'capacity', 'created', 'by', 'middle', 'eastern', 'oil', 'producers', 'in',\n",
      "  'the', 'early', '1980s', '.', 'finally', ',', 'virtually', 'all', 'major', 'u', '.', 's', '.',\n",
      "  'chemical', 'manufacturers', 'have', 'embarked', 'on', 'an', 'extensive', 'corporate',\n",
      "  'restructuring', 'program', 'to', 'mothball', 'inefficient', 'plants', ',', 'trim', 'the',\n",
      "  'payroll', 'and', 'eliminate', 'unrelated', 'businesses', '.', 'the', 'restructuring', 'touched',\n",
      "  'off', 'a', 'flurry', 'of', 'friendly', 'and', 'hostile', 'takeover', 'attempts', '.', 'gaf', ',',\n",
      "  'which', 'made', 'an', 'unsuccessful', 'attempt', 'in', '1985', 'to', 'acquire', 'union',\n",
      "  'carbide', 'corp', '&', 'lt', ';', 'uk', '>,', 'recently', 'offered', 'three', 'billion', 'dlrs',\n",
      "  'for', 'borg', 'warner', 'corp', '&', 'lt', ';', 'bor', '>,', 'a', 'chicago', 'manufacturer',\n",
      "  'of', 'plastics', 'and', 'chemicals', '.', 'another', 'industry', 'powerhouse', ',', 'w', '.',\n",
      "  'r', '.', 'grace', '&', 'lt', ';', 'gra', '>', 'has', 'divested', 'its', 'retailing', ',',\n",
      "  'restaurant', 'and', 'fertilizer', 'businesses', 'to', 'raise', 'cash', 'for', 'chemical',\n",
      "  'acquisitions', '.', 'but', 'some', 'experts', 'worry', 'that', 'the', 'chemical', 'industry',\n",
      "  'may', 'be', 'headed', 'for', 'trouble', 'if', 'companies', 'continue', 'turning', 'their',\n",
      "  'back', 'on', 'the', 'manufacturing', 'of', 'staple', 'petrochemical', 'commodities', ',', 'such',\n",
      "  'as', 'ethylene', ',', 'in', 'favor', 'of', 'more', 'profitable', 'specialty', 'chemicals',\n",
      "  'that', 'are', 'custom', '-', 'designed', 'for', 'a', 'small', 'group', 'of', 'buyers', '.', '\"',\n",
      "  'companies', 'like', 'dupont', '&', 'lt', ';', 'dd', '>', 'and', 'monsanto', 'co', '&', 'lt', ';',\n",
      "  'mtc', '>', 'spent', 'the', 'past', 'two', 'or', 'three', 'years', 'trying', 'to', 'get', 'out',\n",
      "  'of', 'the', 'commodity', 'chemical', 'business', 'in', 'reaction', 'to', 'how', 'badly', 'the',\n",
      "  'market', 'had', 'deteriorated', ',\"', 'dosher', 'said', '.', '\"', 'but', 'i', 'think', 'they',\n",
      "  'will', 'eventually', 'kill', 'the', 'margins', 'on', 'the', 'profitable', 'chemicals', 'in',\n",
      "  'the', 'niche', 'market', '.\"', 'some', 'top', 'chemical', 'executives', 'share', 'the',\n",
      "  'concern', '.', '\"', 'the', 'challenge', 'for', 'our', 'industry', 'is', 'to', 'keep', 'from',\n",
      "  'getting', 'carried', 'away', 'and', 'repeating', 'past', 'mistakes', ',\"', 'gaf', \"'\", 's',\n",
      "  'heyman', 'cautioned', '.', '\"', 'the', 'shift', 'from', 'commodity', 'chemicals', 'may', 'be',\n",
      "  'ill', '-', 'advised', '.', 'specialty', 'businesses', 'do', 'not', 'stay', 'special', 'long',\n",
      "  '.\"', 'houston', '-', 'based', 'cain', 'chemical', ',', 'created', 'this', 'month', 'by', 'the',\n",
      "  'sterling', 'investment', 'banking', 'group', ',', 'believes', 'it', 'can', 'generate', '700',\n",
      "  'mln', 'dlrs', 'in', 'annual', 'sales', 'by', 'bucking', 'the', 'industry', 'trend', '.',\n",
      "  'chairman', 'gordon', 'cain', ',', 'who', 'previously', 'led', 'a', 'leveraged', 'buyout', 'of',\n",
      "  'dupont', \"'\", 's', 'conoco', 'inc', \"'\", 's', 'chemical', 'business', ',', 'has', 'spent', '1',\n",
      "  '.', '1', 'billion', 'dlrs', 'since', 'january', 'to', 'buy', 'seven', 'petrochemical', 'plants',\n",
      "  'along', 'the', 'texas', 'gulf', 'coast', '.', 'the', 'plants', 'produce', 'only', 'basic',\n",
      "  'commodity', 'petrochemicals', 'that', 'are', 'the', 'building', 'blocks', 'of', 'specialty',\n",
      "  'products', '.', '\"', 'this', 'kind', 'of', 'commodity', 'chemical', 'business', 'will', 'never',\n",
      "  'be', 'a', 'glamorous', ',', 'high', '-', 'margin', 'business', ',\"', 'cain', 'said', ',',\n",
      "  'adding', 'that', 'demand', 'is', 'expected', 'to', 'grow', 'by', 'about', 'three', 'pct',\n",
      "  'annually', '.', 'garo', 'armen', ',', 'an', 'analyst', 'with', 'dean', 'witter', 'reynolds', ',',\n",
      "  'said', 'chemical', 'makers', 'have', 'also', 'benefitted', 'by', 'increasing', 'demand', 'for',\n",
      "  'plastics', 'as', 'prices', 'become', 'more', 'competitive', 'with', 'aluminum', ',', 'wood',\n",
      "  'and', 'steel', 'products', '.', 'armen', 'estimated', 'the', 'upturn', 'in', 'the', 'chemical',\n",
      "  'business', 'could', 'last', 'as', 'long', 'as', 'four', 'or', 'five', 'years', ',', 'provided',\n",
      "  'the', 'u', '.', 's', '.', 'economy', 'continues', 'its', 'modest', 'rate', 'of', 'growth', '.',\n",
      "  '<END>'],\n",
      " ['<START>', 'turkey', 'calls', 'for', 'dialogue', 'to', 'solve', 'dispute', 'turkey', 'said',\n",
      "  'today', 'its', 'disputes', 'with', 'greece', ',', 'including', 'rights', 'on', 'the',\n",
      "  'continental', 'shelf', 'in', 'the', 'aegean', 'sea', ',', 'should', 'be', 'solved', 'through',\n",
      "  'negotiations', '.', 'a', 'foreign', 'ministry', 'statement', 'said', 'the', 'latest', 'crisis',\n",
      "  'between', 'the', 'two', 'nato', 'members', 'stemmed', 'from', 'the', 'continental', 'shelf',\n",
      "  'dispute', 'and', 'an', 'agreement', 'on', 'this', 'issue', 'would', 'effect', 'the', 'security',\n",
      "  ',', 'economy', 'and', 'other', 'rights', 'of', 'both', 'countries', '.', '\"', 'as', 'the',\n",
      "  'issue', 'is', 'basicly', 'political', ',', 'a', 'solution', 'can', 'only', 'be', 'found', 'by',\n",
      "  'bilateral', 'negotiations', ',\"', 'the', 'statement', 'said', '.', 'greece', 'has', 'repeatedly',\n",
      "  'said', 'the', 'issue', 'was', 'legal', 'and', 'could', 'be', 'solved', 'at', 'the',\n",
      "  'international', 'court', 'of', 'justice', '.', 'the', 'two', 'countries', 'approached', 'armed',\n",
      "  'confrontation', 'last', 'month', 'after', 'greece', 'announced', 'it', 'planned', 'oil',\n",
      "  'exploration', 'work', 'in', 'the', 'aegean', 'and', 'turkey', 'said', 'it', 'would', 'also',\n",
      "  'search', 'for', 'oil', '.', 'a', 'face', '-', 'off', 'was', 'averted', 'when', 'turkey',\n",
      "  'confined', 'its', 'research', 'to', 'territorrial', 'waters', '.', '\"', 'the', 'latest',\n",
      "  'crises', 'created', 'an', 'historic', 'opportunity', 'to', 'solve', 'the', 'disputes', 'between',\n",
      "  'the', 'two', 'countries', ',\"', 'the', 'foreign', 'ministry', 'statement', 'said', '.', 'turkey',\n",
      "  \"'\", 's', 'ambassador', 'in', 'athens', ',', 'nazmi', 'akiman', ',', 'was', 'due', 'to', 'meet',\n",
      "  'prime', 'minister', 'andreas', 'papandreou', 'today', 'for', 'the', 'greek', 'reply', 'to', 'a',\n",
      "  'message', 'sent', 'last', 'week', 'by', 'turkish', 'prime', 'minister', 'turgut', 'ozal', '.',\n",
      "  'the', 'contents', 'of', 'the', 'message', 'were', 'not', 'disclosed', '.', '<END>']]\n"
     ]
    }
   ],
   "source": [
    "reuters_corpus=read_corpus()\n",
    "pprint.pprint(reuters_corpus[:3],compact=True,width=100)"
   ]
  },
  {
   "cell_type": "code",
   "execution_count": 4,
   "metadata": {},
   "outputs": [],
   "source": [
    "def distinct_word(corpus):\n",
    "    \"\"\"\n",
    "    Determine a list of distinct words for the corpus\n",
    "    Params:\n",
    "            corpus(list of list of strings) corpus of document\n",
    "    Return：\n",
    "            corpus_words(list of strings):list of distinct word across the corpus  sorted (using python sorted function)\n",
    "            num_corpus_words(interge):number of distinct words across the corpus\n",
    "    \"\"\"\n",
    "    corpus_words=[]\n",
    "    num_corpus_words=-1\n",
    "    \n",
    "    temp=[y for x in corpus for y in x ]\n",
    "    temp=list(set(temp))\n",
    "    temp.sort() #千万不能写成 temp=temp.sort(),这样temp就变成了NONEtype\n",
    "    corpus_words=temp\n",
    "    num_corpus_words=len(corpus_words)\n",
    "#     corpus_words = list(set([word for words in corpus for word in words]))\n",
    "#     corpus_words.sort()\n",
    "#     num_corpus_words = len(corpus_words)\n",
    "    \n",
    "    return corpus_words,num_corpus_words"
   ]
  },
  {
   "cell_type": "code",
   "execution_count": 5,
   "metadata": {},
   "outputs": [
    {
     "name": "stdout",
     "output_type": "stream",
     "text": [
      "--------------------------------------------------------------------------------\n",
      "Pass All Test!!!!\n",
      "--------------------------------------------------------------------------------\n"
     ]
    }
   ],
   "source": [
    "# --------------------------------------\n",
    "# Run this sanity check\n",
    "#Note that this not an exhaustive check for correctness.\n",
    "#---------------------------------------\n",
    "\n",
    "#Define toy corpus\n",
    "test_corpus=[\"{} All that glitters isn't gold {}\".format(START_TOKEN,END_TOKEN).split(\" \"),\"{} All's well that end's well {}\".format(START_TOKEN,END_TOKEN).split(\" \")]\n",
    "test_corpus_words,test_num_corpus_words=distinct_word(test_corpus)\n",
    "\n",
    "#Correct answers\n",
    "ans_test_corpus_words=sorted([START_TOKEN,END_TOKEN,\"All\",\"All's\",\"end's\",\"glitters\",\"gold\",\"isn't\",\"that\",'well'])\n",
    "ans_test_num_corpus_words=len(ans_test_corpus_words)\n",
    "\n",
    "#Test correct number of words\n",
    "assert(test_num_corpus_words==ans_test_num_corpus_words),\"Incoerrect number of distinct word.Correct {},Yous :{}.\".format(test_num_corpus_words,ans_test_num_corpus_words)\n",
    "\n",
    "#Test correct words\n",
    "assert(test_corpus_words==ans_test_corpus_words),\"Incorrect corpus words\\n Correct:{}\\n Yours {}.\".format(test_corpus_words,ans_test_corpus_words)\n",
    "\n",
    "print('-'*80)\n",
    "print(\"Pass All Test!!!!\")\n",
    "print('-'*80)\n"
   ]
  },
  {
   "cell_type": "code",
   "execution_count": 6,
   "metadata": {},
   "outputs": [],
   "source": [
    "def compute_co_occurrence_matrix(corpus,window_size=4):\n",
    "    \"\"\"\n",
    "    Compute cooccurence matrix for the given corpus and window size (default of 4)\n",
    "    Note : Each word in a documnet should be at the center of a window.Words near edges will have a smaller\n",
    "            number of co-occurence words\n",
    "            For example if we take the document \"<START> All that glitters is not gold <END>\" with window size of\n",
    "            4 All with co-occurence <START> that glitters is not\n",
    "    params : \n",
    "        corpus (list of list of strings ):corpus of document\n",
    "        window_size :size of content window\n",
    "    Return  :\n",
    "        M(a symmetric numpy matrix of shape (number of unique word in the  corpus number of unique words in the corpus )):\n",
    "        Co-occurence matrix of word count\n",
    "        The orders of the words in the rows/columns should be the same as the ordering of the words given by the distinct_words function.\n",
    "        word2Ind (dict):dictionary that maps word toindex (i.e row/column number )for matrix M\n",
    "    \"\"\"\n",
    "    \"\"\"\n",
    "    构建共现矩阵思路\n",
    "    + 首先根据distinct_word函数生成列表构造单词到ID的Word的字典word2Ind\n",
    "    + 在从预料库取出一篇文档 遍历该文档 并逐词进行判断 再次遍历该文档 并逐词判断 如若该词位于\n",
    "    + 首次遍历词的窗口内 在共现矩阵的合适位置加一 否则跳出遍历 。\n",
    "    + 如若找到窗口词 则根据Word2ind字典找到该词的索引 进而找到共现矩阵的位置\n",
    "    \"\"\"\n",
    "    corpus_words,num_corpus_words=distinct_word(corpus)\n",
    "    M=np.zeros((num_corpus_words,num_corpus_words))\n",
    "    word2Ind={word:i for i,word in enumerate(corpus_words)}\n",
    "    \n",
    "    for words in corpus:  #\n",
    "        for i,word in enumerate(words):\n",
    "            for j in range(i-window_size,i+window_size+1):\n",
    "                if j==i or j<0 or j>=len(words): continue\n",
    "                else:\n",
    "                    row=word2Ind[word]\n",
    "                    col=word2Ind[words[j]]\n",
    "                    M[row,col]+=1\n",
    "    return M,word2Ind\n",
    "                "
   ]
  },
  {
   "cell_type": "code",
   "execution_count": 7,
   "metadata": {},
   "outputs": [
    {
     "name": "stdout",
     "output_type": "stream",
     "text": [
      "-*-*-*-*-*-*-*-*-*-*-*-*-*-*-*-*-*-*-*-*-*-*-*-*-*-*-*-*-*-*-*-*-*-*-*-*-*-*-*-*\n",
      "Pass All Test!!!!!!!\n",
      "-*-*-*-*-*-*-*-*-*-*-*-*-*-*-*-*-*-*-*-*-*-*-*-*-*-*-*-*-*-*-*-*-*-*-*-*-*-*-*-*\n"
     ]
    }
   ],
   "source": [
    "#------------------------------------------------------\n",
    "#Run this sanity cjeck\n",
    "#Note that this is not an exhaustive for correctness\n",
    "#------------------------------------------------------\n",
    "\n",
    "#Denfine toy corpus and get student's co-occurance matrix\n",
    "test_corpus=[\"{} All that glitters isn't gold {}\".format(START_TOKEN,END_TOKEN).split(\" \"),\"{} All's well that ends well {}\".format(START_TOKEN,END_TOKEN).split(\" \")]\n",
    "M_test,word2Ind_test=compute_co_occurrence_matrix(test_corpus,window_size=1)\n",
    "\n",
    "#print(M_test)\n",
    "#correct M and word2Ind\n",
    "M_test_ans=np.array([[0.,0.,0.,0.,0.,0.,1.,0.,0.,1.],\n",
    "      [0.,0.,1.,1.,0.,0.,0.,0.,0.,0.],\n",
    "      [0.,1.,0.,0.,0.,0.,0.,0.,1.,0.],\n",
    "      [0.,1.,0.,0.,0.,0.,0.,0.,0.,1.],\n",
    "      [0.,0.,0.,0.,0.,0.,0.,0.,1.,1.],\n",
    "      [0.,0.,0.,0.,0.,0.,0.,1.,1.,0.],\n",
    "      [1.,0.,0.,0.,0.,0.,0.,1.,0.,0.],\n",
    "      [0.,0.,0.,0.,0.,1.,1.,0.,0.,0.],\n",
    "      [0.,0.,1.,0.,1.,1.,0.,0.,0.,1.],\n",
    "      [1.,0.,0.,1.,1.,0.,0.,0.,1.,0.] ])\n",
    "\n",
    "ans_test_corpus_words=sorted([START_TOKEN,END_TOKEN,\"All\",\"All's\",\"ends\",\"glitters\",\"gold\",\"isn't\",\"that\",'well'])\n",
    "\n",
    "word2Ind_ans=dict(zip(ans_test_corpus_words,range(len(ans_test_corpus_words))))\n",
    "\n",
    "\n",
    " \n",
    "#Test word2Ind is correct\n",
    "assert(word2Ind_ans==word2Ind_test),\"Yours word2Ind is incorrect:\\n Yours: {}\\n Correct: {}\".format(word2Ind_test,word2Ind_ans)\n",
    "\n",
    "#Test correct M.shape\n",
    "assert(M_test.shape==M_test_ans.shape),\"You M.shape is incorrect :\\n Your :{}\\n Correct:{} \".format(M_test.shape,M_test_ans.shape)\n",
    "\n",
    "#Test correct M values\n",
    "\n",
    "for w1 in word2Ind_test.keys():\n",
    "    idx1=word2Ind_test[w1]\n",
    "    for w2 in word2Ind_test.keys():\n",
    "        idx2=word2Ind_test[w2]\n",
    "        student=M_test[idx1,idx2]\n",
    "        correct=M_test_ans[idx1,idx2]\n",
    "        if student!=correct:\n",
    "            print(\"Your M:\\n\")\n",
    "            print(M_test)\n",
    "            print(\"correct M:\\n\")\n",
    "            print(M_test_ans)\n",
    "            raise AssertionError(\"Incorrect count at index  ({},{})=({},{}) in M matrix You has {} but correct {}!\".format(idx1,idx2,w1,w2,student,correct))\n",
    "            \n",
    "\n",
    "\n",
    "# success pass test\n",
    "print(\"-*\"*40)\n",
    "print(\"Pass All Test!!!!!!!\")\n",
    "print(\"-*\"*40)\n",
    "            "
   ]
  },
  {
   "cell_type": "code",
   "execution_count": 8,
   "metadata": {},
   "outputs": [],
   "source": [
    "def reduce_to_k_dim(M,k=2):\n",
    "    \"\"\"\n",
    "    Reduce co-occurrence count of  matrix dimensionality(num_corpus_words,num_corpus_words)\n",
    "    to a matrix of dimensionality (num_corpus_words,k) using the following SVD function from sklearn\n",
    "    \n",
    "    Params:\n",
    "    M:(numpy matrix of shape (number of unqiue words in the corpus,number of unique words in the corpus))\n",
    "    k(size) int: embedding size of each word after dimension reducation\n",
    "    \n",
    "    Return:\n",
    "    M_reduce:(numpy matrix of shape (num_corpus_words,k)):matrix of k-dimensionality word embedding\n",
    "    In term of math class ,this actually return U*S\n",
    "    \n",
    "    \"\"\" \n",
    "    n_iters=10\n",
    "    M_reduce=np.zeros((M.shape[0],k))\n",
    "    print(\"Running TruncatedSVD over %i words .....\"%(M.shape[0]))\n",
    "    svd=TruncatedSVD(n_components=k,n_iter=n_iters)\n",
    "    M_reduce=svd.fit_transform(M) #这里要用fit_transform函数\n",
    "                                  #fit函数返回的是transfrom对象 fit_transform函数返回的才是降维后的数组\n",
    "    \n",
    "    print(\"Done!\")\n",
    "    \n",
    "    return M_reduce\n",
    "    \n",
    "    "
   ]
  },
  {
   "cell_type": "code",
   "execution_count": 9,
   "metadata": {},
   "outputs": [
    {
     "name": "stdout",
     "output_type": "stream",
     "text": [
      "Running TruncatedSVD over 10 words .....\n",
      "Done!\n",
      "++++++++++++++++++++++++++++++++++++++++++++++++++++++++++++++++++++++++++++++++\n",
      " Pass All Test!!!!!! \n",
      "++++++++++++++++++++++++++++++++++++++++++++++++++++++++++++++++++++++++++++++++\n"
     ]
    }
   ],
   "source": [
    "#----------------------------------------\n",
    "#Run this sanity check\n",
    "#Note that this is not exhaustive check for the correctness\n",
    "#In fact we only check that you M_reduce has the right dimensions\n",
    "#-----------------------------------------\n",
    "\n",
    "#Define toy corpus and run student code\n",
    "test_corpus=[\"{} All that glitter isn't gold {}\".format(START_TOKEN,END_TOKEN).split(\" \"),\"{} All's well that ends well {}\".format(START_TOKEN,END_TOKEN).split(\" \")]\n",
    "M_test,word2Ind_test=compute_co_occurrence_matrix(test_corpus,window_size=1)\n",
    "M_reduce_test=reduce_to_k_dim(M_test,k=2)\n",
    "\n",
    "#Test proper dimensional\n",
    "assert(M_reduce_test.shape[0]==10),  \"M_reduce has {} rows, should have {}\".format(M_reduce_test.shape[0],10)\n",
    "assert(M_reduce_test.shape[1]==2),  \"M_reduce has {} cols,should have {}\".format(M_reduce_test.shape[1],2)\n",
    "\n",
    "#Pass the test\n",
    "print('+'*80)\n",
    "print(\" Pass All Test!!!!!! \")\n",
    "print('+'*80)"
   ]
  },
  {
   "cell_type": "code",
   "execution_count": 32,
   "metadata": {},
   "outputs": [],
   "source": [
    "def plot_embeddings(M_reduced, word2Ind, words):\n",
    "    \"\"\" Plot in a scatterplot the embeddings of the words specified in the list \"words\".\n",
    "        NOTE: do not plot all the words listed in M_reduced / word2Ind.\n",
    "        Include a label next to each point.\n",
    "        \n",
    "        Params:\n",
    "            M_reduced (numpy matrix of shape (number of unique words in the corpus , 2)): matrix of 2-dimensioal word embeddings\n",
    "            word2Ind (dict): dictionary that maps word to indices for matrix M\n",
    "            words (list of strings): words whose embeddings we want to visualize\n",
    "    \"\"\"\n",
    "\n",
    "    # ------------------\n",
    "    # Write your implementation here.\n",
    "    for word in words:\n",
    "        idx=word2Ind[word]\n",
    "        plt.scatter(M_reduced[idx][0],M_reduced[idx][1],marker='x',color='red')\n",
    "        plt.text(M_reduced[idx][0]+0.003,M_reduced[idx][1]+0.003,word,fontsize=9)\n",
    "    plt.show()"
   ]
  },
  {
   "cell_type": "code",
   "execution_count": 33,
   "metadata": {},
   "outputs": [
    {
     "name": "stdout",
     "output_type": "stream",
     "text": [
      "--------------------------------------------------------------------------------\n",
      "Outputted Plot:\n"
     ]
    },
    {
     "data": {
      "image/png": "[encoded data removed]",
      "text/plain": [
       "<Figure size 432x288 with 1 Axes>"
      ]
     },
     "metadata": {
      "needs_background": "light"
     },
     "output_type": "display_data"
    },
    {
     "name": "stdout",
     "output_type": "stream",
     "text": [
      "--------------------------------------------------------------------------------\n"
     ]
    }
   ],
   "source": [
    "# ---------------------\n",
    "# Run this sanity check\n",
    "# Note that this is not an exhaustive check for correctness.\n",
    "# The plot produced should look like the \"test solution plot\" depicted below. \n",
    "# ---------------------\n",
    "\n",
    "print (\"-\" * 80)\n",
    "print (\"Outputted Plot:\")\n",
    "\n",
    "M_reduced_plot_test = np.array([[1, 1], [-1, -1], [1, -1], [-1, 1], [0, 0]])\n",
    "word2Ind_plot_test = {'test1': 0, 'test2': 1, 'test3': 2, 'test4': 3, 'test5': 4}\n",
    "words = ['test1', 'test2', 'test3', 'test4', 'test5']\n",
    "plot_embeddings(M_reduced_plot_test, word2Ind_plot_test, words)\n",
    "\n",
    "print (\"-\" * 80)"
   ]
  },
  {
   "cell_type": "code",
   "execution_count": 34,
   "metadata": {},
   "outputs": [
    {
     "name": "stdout",
     "output_type": "stream",
     "text": [
      "Running TruncatedSVD over 8185 words .....\n",
      "Done!\n"
     ]
    },
    {
     "data": {
      "image/png": "[encoded data removed]",
      "text/plain": [
       "<Figure size 432x288 with 1 Axes>"
      ]
     },
     "metadata": {
      "needs_background": "light"
     },
     "output_type": "display_data"
    }
   ],
   "source": [
    "#-----------------------------------\n",
    "#Run the cell plot your answer\n",
    "#-----------------------------------\n",
    "reuters_corpus=read_corpus()\n",
    "M_co_occurence,word2Ind_co_occurence=compute_co_occurrence_matrix(reuters_corpus)\n",
    "\n",
    "M_reduced_co_occurence=reduce_to_k_dim(M_co_occurence)\n",
    "\n",
    "#Normlization\n",
    "M_lengths=np.linalg.norm(M_reduced_co_occurence,axis=1)\n",
    "M_nomalized=M_reduced_co_occurence/M_lengths[:,np.newaxis]\n",
    "\n",
    "words=['finally',  'virtually', 'major', \n",
    "  'chemical', 'manufacturers', 'embarked',  'extensive', 'corporate',\n",
    "  'restructuring', 'program',  'mothball', 'inefficient', 'plants',  'trim',\n",
    "  'payroll','eliminate', 'unrelated', 'businesses']\n",
    "plot_embeddings(M_nomalized,word2Ind_co_occurence,words)\n"
   ]
  },
  {
   "cell_type": "code",
   "execution_count": 13,
   "metadata": {},
   "outputs": [],
   "source": [
    "def load_embedding_model():\n",
    "    \"\"\"\n",
    "    Load Glove Vectors\n",
    "    Return \n",
    "    wv_from_bin:All 400000 emdeddings each length 200\n",
    "    \"\"\"\n",
    "    import gensim.downloader as api\n",
    "    wv_from_bin=api.load(\"glove-wiki-gigaword-200\")\n",
    "    print(\"Loaded vocab size %i\" %len(wv_from_bin.vocab.keys()))\n",
    "    return wv_from_bin"
   ]
  },
  {
   "cell_type": "code",
   "execution_count": 14,
   "metadata": {},
   "outputs": [
    {
     "name": "stdout",
     "output_type": "stream",
     "text": [
      "[==================================================] 100.0% 252.1/252.1MB downloaded\n",
      "Loaded vocab size 400000\n"
     ]
    }
   ],
   "source": [
    "#----------------------------------\n",
    "#Run cell to Load Word Vector\n",
    "#----------------------------------\n",
    "wv_from_bin=load_embedding_model()"
   ]
  },
  {
   "cell_type": "code",
   "execution_count": 18,
   "metadata": {},
   "outputs": [],
   "source": [
    "def get_matrix_of_vectors(wv_from_bin,required_words=['barrels','bpd','ecuador','energy','industry','kuwait',\n",
    "                                                     'oil','output','petroleum','venezuela']):\n",
    "    \"\"\"\n",
    "    Put the Glove vectors into a matrix M\n",
    "    Params:\n",
    "            wv_from_bin:KeyedVectors object ; the 40000 GloVe vectors from file\n",
    "    Return :\n",
    "            M numpy matrix shape (num_word ,200) contain the vectors\n",
    "            word2Ind:dictionary mapping each word to its row number in M       \n",
    "    \"\"\"\n",
    "    import random \n",
    "    words =list(wv_from_bin.vocab.keys())\n",
    "    print(\"shuffling word....\")\n",
    "    random.seed(224)\n",
    "    random.shuffle(words)\n",
    "    words=words[:10000]\n",
    "    print(\"Putting %i words into word2Ind and matrix M...\"%len(words))\n",
    "    word2Ind={}\n",
    "    M=[]\n",
    "    curInd=0\n",
    "    for w in words:\n",
    "        try:\n",
    "            M.append(wv_from_bin.word_vec(w))\n",
    "            word2Ind[w]=curInd\n",
    "            curInd+=1\n",
    "        except KeyError:\n",
    "            continue\n",
    "    for w in required_words:\n",
    "        if w in words:\n",
    "            continue\n",
    "        try:\n",
    "            M.append(wv_from_bin.word_vec(w))\n",
    "            word2Ind[w]=curInd\n",
    "            curInd+=1\n",
    "        except KeyError:\n",
    "            continue\n",
    "    M=np.stack(M)\n",
    "    print('Done!')\n",
    "    return M,word2Ind"
   ]
  },
  {
   "cell_type": "code",
   "execution_count": 29,
   "metadata": {},
   "outputs": [
    {
     "name": "stdout",
     "output_type": "stream",
     "text": [
      "shuffling word....\n",
      "Putting 10000 words into word2Ind and matrix M...\n",
      "Done!\n",
      "Running TruncatedSVD over 10010 words .....\n",
      "Done!\n"
     ]
    }
   ],
   "source": [
    "#----------------------------------------------\n",
    "#Run cell to reduce 200-Dimensional word Emeddings to K dimensional\n",
    "#----------------------------------------------\n",
    "M,word2Ind=get_matrix_of_vectors(wv_from_bin)\n",
    "M_reduced=reduce_to_k_dim(M,k=2)\n",
    "\n",
    "#Recale (normalize) the rows to make them each of  unit_length\n",
    "M_lengths=np.linalg.norm(M_reduced,axis=1)\n",
    "M_reduced_normalized=M_reduced/M_lengths[:,np.newaxis]"
   ]
  },
  {
   "cell_type": "code",
   "execution_count": 39,
   "metadata": {},
   "outputs": [
    {
     "data": {
      "image/png": "[encoded data removed]",
      "text/plain": [
       "<Figure size 432x288 with 1 Axes>"
      ]
     },
     "metadata": {
      "needs_background": "light"
     },
     "output_type": "display_data"
    }
   ],
   "source": [
    "words = ['barrels', 'bpd', 'ecuador', 'energy', 'industry', 'kuwait', 'oil', 'output', 'petroleum', 'venezuela']\n",
    "plot_embeddings(M_reduced_normalized,word2Ind,words)\n",
    "#plot_embeddings(M_nomalized,word2Ind_co_occurence,words)"
   ]
  },
  {
   "cell_type": "code",
   "execution_count": 37,
   "metadata": {},
   "outputs": [
    {
     "data": {
      "image/png": "[encoded data removed]",
      "text/plain": [
       "<Figure size 432x288 with 1 Axes>"
      ]
     },
     "metadata": {
      "needs_background": "light"
     },
     "output_type": "display_data"
    }
   ],
   "source": [
    "\n",
    "words = ['barrels', 'bpd', 'ecuador', 'energy', 'industry', 'kuwait', 'oil', 'output', 'petroleum', 'venezuela']\n",
    "plot_embeddings(M_nomalized,word2Ind_co_occurence,words)"
   ]
  },
  {
   "cell_type": "markdown",
   "metadata": {},
   "source": [
    "## 比较共现矩阵和GloVe向量得到可视化图\n",
    "+ GloVe向量比共现矩阵结果同类型词向量更聚集\n",
    "## 分析原因\n",
    "+ Glove向量训练考虑上下文语义 因此相似词向量他们的相关性更大"
   ]
  },
  {
   "cell_type": "markdown",
   "metadata": {},
   "source": [
    "## Question 2.2: Polysemous Words (2 points) [code + written] \n",
    "Find a [polysemous](https://en.wikipedia.org/wiki/Polysemy) word (for example, \"leaves\" or \"scoop\") such that the top-10 most similar words (according to cosine similarity) contains related words from *both* meanings. For example, \"leaves\" has both \"vanishes\" and \"stalks\" in the top 10, and \"scoop\" has both \"handed_waffle_cone\" and \"lowdown\". You will probably need to try several polysemous words before you find one. Please state the polysemous word you discover and the multiple meanings that occur in the top 10. Why do you think many of the polysemous words you tried didn't work?\n",
    "\n",
    "**Note**: You should use the `wv_from_bin.most_similar(word)` function to get the top 10 similar words. This function ranks all other words in the vocabulary with respect to their cosine similarity to the given word. For further assistance please check the __[GenSim documentation](https://radimrehurek.com/gensim/models/keyedvectors.html#gensim.models.keyedvectors.FastTextKeyedVectors.most_similar)__."
   ]
  },
  {
   "cell_type": "code",
   "execution_count": 42,
   "metadata": {},
   "outputs": [
    {
     "data": {
      "text/plain": [
       "[('calculate', 0.699090838432312),\n",
       " ('computed', 0.61522376537323),\n",
       " ('algorithm', 0.5691111087799072),\n",
       " ('formula_1', 0.5609829425811768),\n",
       " ('formula_3', 0.5595877766609192),\n",
       " ('formula_4', 0.5565686821937561),\n",
       " ('computes', 0.5493069887161255),\n",
       " ('formula_2', 0.5455579161643982),\n",
       " ('formula_7', 0.5447344779968262),\n",
       " ('nodes', 0.5444777011871338)]"
      ]
     },
     "execution_count": 42,
     "metadata": {},
     "output_type": "execute_result"
    }
   ],
   "source": [
    "wv_from_bin.most_similar('compute')"
   ]
  },
  {
   "cell_type": "markdown",
   "metadata": {},
   "source": [
    "## 结果分析\n",
    "+ 因为most_similar函数是根据待求词与词库中所有词的cosine 所以对compute进行most_similar得到到大部分都是与\n",
    "+ 计算有关的\n",
    "+ 发现第三个是algorithm和后面的formula_X 发现compute也有公式算法的意思"
   ]
  },
  {
   "cell_type": "markdown",
   "metadata": {},
   "source": [
    "### Question 2.3: Synonyms & Antonyms (2 points) [code + written] \n",
    "\n",
    "When considering Cosine Similarity, it's often more convenient to think of Cosine Distance, which is simply 1 - Cosine Similarity.\n",
    "\n",
    "Find three words (w1,w2,w3) where w1 and w2 are synonyms and w1 and w3 are antonyms, but Cosine Distance(w1,w3) < Cosine Distance(w1,w2). For example, w1=\"happy\" is closer to w3=\"sad\" than to w2=\"cheerful\". \n",
    "\n",
    "Once you have found your example, please give a possible explanation for why this counter-intuitive result may have happened.\n",
    "\n",
    "You should use the the `wv_from_bin.distance(w1, w2)` function here in order to compute the cosine distance between two words. Please see the __[GenSim documentation](https://radimrehurek.com/gensim/models/keyedvectors.html#gensim.models.keyedvectors.FastTextKeyedVectors.distance)__ for further assistance."
   ]
  },
  {
   "cell_type": "markdown",
   "metadata": {},
   "source": [
    "## Cosine Distance=1-Consine Similarity "
   ]
  },
  {
   "cell_type": "code",
   "execution_count": 51,
   "metadata": {},
   "outputs": [
    {
     "name": "stdout",
     "output_type": "stream",
     "text": [
      "synonyms Cosine Distance:0.5172466933727264,antonyms :0.4040136933326721\n"
     ]
    }
   ],
   "source": [
    "synonyms=wv_from_bin.distance(\"happy\",\"cheerful\")\n",
    "antonyms=wv_from_bin.distance('happy','sad')\n",
    "print('synonyms Cosine Distance:{},antonyms :{}'.format(synonyms,antonyms))"
   ]
  },
  {
   "cell_type": "code",
   "execution_count": 54,
   "metadata": {},
   "outputs": [
    {
     "name": "stdout",
     "output_type": "stream",
     "text": [
      "synonyms Cosine Distance:0.6058680415153503,antonyms :0.5829358696937561\n"
     ]
    }
   ],
   "source": [
    "synonyms=wv_from_bin.distance('succeed','win')\n",
    "antonyms=wv_from_bin.distance('succeed','failed')\n",
    "print('synonyms Cosine Distance:{},antonyms :{}'.format(synonyms,antonyms))"
   ]
  },
  {
   "cell_type": "markdown",
   "metadata": {},
   "source": [
    "##  结果分析\n",
    "+ succeed与failed表示一件事情的结果 要么成功 要么失败\n",
    "+ succeed与win都表示成功\n",
    "+ 在一个语境下同时出现succeed与win可能性很低 但是同时出现succeed和failed可能性也比较di\n",
    "+ 但是比前者来比要搞"
   ]
  },
  {
   "cell_type": "markdown",
   "metadata": {},
   "source": [
    "### Solving Analogies with Word Vectors\n",
    "Word vectors have been shown to *sometimes* exhibit the ability to solve analogies. \n",
    "\n",
    "As an example, for the analogy \"man : king :: woman : x\" (read: man is to king as woman is to x), what is x?\n",
    "\n",
    "In the cell below, we show you how to use word vectors to find x. The `most_similar` function finds words that are most similar to the words in the `positive` list and most dissimilar from the words in the `negative` list. The answer to the analogy will be the word ranked most similar (largest numerical value).\n",
    "\n",
    "**Note:** Further Documentation on the `most_similar` function can be found within the __[GenSim documentation](https://radimrehurek.com/gensim/models/keyedvectors.html#gensim.models.keyedvectors.FastTextKeyedVectors.most_similar)__. "
   ]
  },
  {
   "cell_type": "code",
   "execution_count": 57,
   "metadata": {},
   "outputs": [
    {
     "name": "stdout",
     "output_type": "stream",
     "text": [
      "[('queen', 0.6978678703308105),\n",
      " ('princess', 0.6081745028495789),\n",
      " ('monarch', 0.5889754891395569),\n",
      " ('throne', 0.5775108933448792),\n",
      " ('prince', 0.5750998854637146),\n",
      " ('elizabeth', 0.546359658241272),\n",
      " ('daughter', 0.5399125814437866),\n",
      " ('kingdom', 0.5318052768707275),\n",
      " ('mother', 0.5168544054031372),\n",
      " ('crown', 0.5164472460746765)]\n"
     ]
    }
   ],
   "source": [
    "pprint.pprint(wv_from_bin.most_similar(positive=['woman','king'],negative=['man']))"
   ]
  },
  {
   "cell_type": "markdown",
   "metadata": {},
   "source": [
    "### Question 2.4: Finding Analogies [code + written]  (2 Points)\n",
    "Find an example of analogy that holds according to these vectors (i.e. the intended word is ranked top). In your solution please state the full analogy in the form x:y :: a:b. If you believe the analogy is complicated, explain why the analogy holds in one or two sentences.\n",
    "\n",
    "**Note**: You may have to try many analogies to find one that works!"
   ]
  },
  {
   "cell_type": "code",
   "execution_count": 60,
   "metadata": {},
   "outputs": [
    {
     "name": "stdout",
     "output_type": "stream",
     "text": [
      "[('son', 0.859366238117218),\n",
      " ('brother', 0.8229293823242188),\n",
      " ('father', 0.7971405982971191),\n",
      " ('nephew', 0.7398903965950012),\n",
      " ('cousin', 0.7232843041419983),\n",
      " ('uncle', 0.7157564759254456),\n",
      " ('sons', 0.7103796601295471),\n",
      " ('grandson', 0.7086800336837769),\n",
      " ('eldest', 0.6781379580497742),\n",
      " ('grandfather', 0.6770942807197571)]\n"
     ]
    }
   ],
   "source": [
    "pprint.pprint(wv_from_bin.most_similar(positive=['man','daughter'],negative=['woman']))"
   ]
  },
  {
   "cell_type": "markdown",
   "metadata": {},
   "source": [
    "### 结果分析\n",
    "woman:daughter :: man :son "
   ]
  },
  {
   "cell_type": "markdown",
   "metadata": {},
   "source": [
    "### Question 2.5: Incorrect Analogy [code + written] (1 point)\n",
    "Find an example of analogy that does *not* hold according to these vectors. In your solution, state the intended analogy in the form x:y :: a:b, and state the (incorrect) value of b according to the word vectors."
   ]
  },
  {
   "cell_type": "code",
   "execution_count": 64,
   "metadata": {},
   "outputs": [
    {
     "name": "stdout",
     "output_type": "stream",
     "text": [
      "[('passing', 0.5922626256942749),\n",
      " ('passes', 0.5581673383712769),\n",
      " ('mistake', 0.5209980010986328),\n",
      " ('passed', 0.487493097782135),\n",
      " ('kick', 0.47384369373321533),\n",
      " ('anyway', 0.45854517817497253),\n",
      " ('unfortunately', 0.4506814479827881),\n",
      " ('way', 0.44923853874206543),\n",
      " ('caught', 0.44642940163612366),\n",
      " ('stupid', 0.44124168157577515)]\n"
     ]
    }
   ],
   "source": [
    "pprint.pprint(wv_from_bin.most_similar(positive=['wrong','pass'],negative=['right']))"
   ]
  },
  {
   "cell_type": "code",
   "execution_count": 66,
   "metadata": {},
   "outputs": [
    {
     "name": "stdout",
     "output_type": "stream",
     "text": [
      "0.4726331830024719\n",
      "0.5369578301906586\n"
     ]
    }
   ],
   "source": [
    "pprint.pprint(wv_from_bin.distance('right','pass'))\n",
    "pprint.pprint(wv_from_bin.distance('wrong','fail'))"
   ]
  },
  {
   "cell_type": "markdown",
   "metadata": {},
   "source": [
    "### 结果分析\n",
    "+ right：pass :: wrong :fail\n",
    "+ 结果却是各种通过"
   ]
  },
  {
   "cell_type": "markdown",
   "metadata": {},
   "source": [
    "### Question 2.6: Guided Analysis of Bias in Word Vectors [written] (1 point)\n",
    "\n",
    "It's important to be cognizant of the biases (gender, race, sexual orientation etc.) implicit in our word embeddings. Bias can be dangerous because it can reinforce stereotypes through applications that employ these models.\n",
    "\n",
    "Run the cell below, to examine (a) which terms are most similar to \"woman\" and \"worker\" and most dissimilar to \"man\", and (b) which terms are most similar to \"man\" and \"worker\" and most dissimilar to \"woman\". Point out the difference between the list of female-associated words and the list of male-associated words, and explain how it is reflecting gender bias."
   ]
  },
  {
   "cell_type": "code",
   "execution_count": 68,
   "metadata": {},
   "outputs": [
    {
     "name": "stdout",
     "output_type": "stream",
     "text": [
      "[('workers', 0.6113258004188538),\n",
      " ('employee', 0.5983108282089233),\n",
      " ('working', 0.5615328550338745),\n",
      " ('laborer', 0.5442320108413696),\n",
      " ('unemployed', 0.5368517637252808),\n",
      " ('job', 0.5278826951980591),\n",
      " ('work', 0.5223963260650635),\n",
      " ('mechanic', 0.5088937282562256),\n",
      " ('worked', 0.505452036857605),\n",
      " ('factory', 0.4940453767776489)]\n",
      "[('employee', 0.6375863552093506),\n",
      " ('workers', 0.6068919897079468),\n",
      " ('nurse', 0.5837947726249695),\n",
      " ('pregnant', 0.5363885164260864),\n",
      " ('mother', 0.5321309566497803),\n",
      " ('employer', 0.5127025842666626),\n",
      " ('teacher', 0.5099576711654663),\n",
      " ('child', 0.5096741914749146),\n",
      " ('homemaker', 0.5019454956054688),\n",
      " ('nurses', 0.4970572590827942)]\n"
     ]
    }
   ],
   "source": [
    "#Run this cell\n",
    "# Here positive indicates the list of words to be similar to and the negative indicates the list of words tobe\n",
    "# most dissimilar to\n",
    "pprint.pprint(wv_from_bin.most_similar(positive=['man','worker'],negative=['woman']))\n",
    "pprint.pprint(wv_from_bin.most_similar(positive=['woman','worker'],negative=['man']))"
   ]
  },
  {
   "cell_type": "markdown",
   "metadata": {},
   "source": [
    "### 结果分析\n",
    "+ 男性列表中多为一些与工作有关的单词还包括劳动者和技工等单词\n",
    "+ 女性列表中多为与家庭有关的单词还有一些女性工作比较多的职业比如护士、老师、家庭主妇\n",
    "+ 在训练预料的都来源现实生活中的场景，所以进行训练是男性的工作的上下文多为劳动有关的词汇\n",
    "+ 女性的工作的上下文多为护士、妈妈、家庭主妇等词汇"
   ]
  },
  {
   "cell_type": "markdown",
   "metadata": {},
   "source": [
    "### Question 2.7: Independent Analysis of Bias in Word Vectors [code + written]  (1 point)\n",
    "\n",
    "Use the `most_similar` function to find another case where some bias is exhibited by the vectors. Please briefly explain the example of bias that you discover."
   ]
  },
  {
   "cell_type": "code",
   "execution_count": 69,
   "metadata": {},
   "outputs": [
    {
     "name": "stdout",
     "output_type": "stream",
     "text": [
      "[('bosses', 0.5625280141830444),\n",
      " ('manager', 0.5502104759216309),\n",
      " ('ferguson', 0.49866554141044617),\n",
      " ('arsene', 0.4745480716228485),\n",
      " ('gambino', 0.4580872058868408),\n",
      " ('wenger', 0.45207348465919495),\n",
      " ('mourinho', 0.4470241069793701),\n",
      " ('tottenham', 0.4417468011379242),\n",
      " ('chelsea', 0.43944650888442993),\n",
      " ('mafia', 0.4386819005012512)]\n",
      "[('bosses', 0.5846002697944641),\n",
      " ('girlfriend', 0.5496258735656738),\n",
      " ('wife', 0.48936721682548523),\n",
      " ('mistress', 0.47348833084106445),\n",
      " ('boyfriend', 0.4683173894882202),\n",
      " ('tells', 0.46039485931396484),\n",
      " ('mother', 0.4581165313720703),\n",
      " ('daughter', 0.45619285106658936),\n",
      " ('lover', 0.4546445608139038),\n",
      " ('husband', 0.44650694727897644)]\n"
     ]
    }
   ],
   "source": [
    "pprint.pprint(wv_from_bin.most_similar(positive=['man','boss'],negative=['woman']))\n",
    "pprint.pprint(wv_from_bin.most_similar(positive=['woman','boss'],negative=['man']))"
   ]
  },
  {
   "cell_type": "markdown",
   "metadata": {},
   "source": [
    "### 结果分析：\n",
    "+ 当知道女人是老板时 去推断男人身份 得到大多为人名或者管理者\n",
    "+ 当知道男人是老板时 去推断女人身份 得到大多数为女朋友，妈妈，爱人等与我们认知的结果相差有点远"
   ]
  },
  {
   "cell_type": "code",
   "execution_count": 71,
   "metadata": {},
   "outputs": [
    {
     "name": "stdout",
     "output_type": "stream",
     "text": [
      "[('rights', 0.6323614120483398),\n",
      " ('beings', 0.5802987813949585),\n",
      " ('animal', 0.5394347906112671),\n",
      " ('humanity', 0.5326052904129028),\n",
      " ('humans', 0.5177587270736694),\n",
      " ('life', 0.5034070014953613),\n",
      " ('body', 0.5030037760734558),\n",
      " ('freedom', 0.49023717641830444),\n",
      " ('people', 0.4858167767524719),\n",
      " ('causes', 0.4795451760292053)]\n",
      "[('rights', 0.5797088146209717),\n",
      " ('animal', 0.5609157681465149),\n",
      " ('humans', 0.5117975473403931),\n",
      " ('administration', 0.5001749396324158),\n",
      " ('beings', 0.5001029968261719),\n",
      " ('animals', 0.492091566324234),\n",
      " ('any', 0.4777699112892151),\n",
      " ('nature', 0.47246524691581726),\n",
      " ('abuses', 0.4724014401435852),\n",
      " ('clinton', 0.4694903492927551)]\n"
     ]
    }
   ],
   "source": [
    "pprint.pprint(wv_from_bin.most_similar(positive=['human','black'],negative=['white']))\n",
    "pprint.pprint(wv_from_bin.most_similar(positive=['human','white'],negative=['black']))"
   ]
  },
  {
   "cell_type": "markdown",
   "metadata": {},
   "source": [
    "### Question 2.8: Thinking About Bias [written] (2 points)¶\n",
    "What might be the causes of these biases in the word vectors? You should give least 2 explainations how bias get into the word vectors. How might you be able to investigate/test these causes?"
   ]
  },
  {
   "cell_type": "markdown",
   "metadata": {},
   "source": [
    "### 分析\n",
    "+ 这样的偏见主要来自训练预料 训练预料有来自现实世界\n",
    "+ 所以这偏见与现实世界的偏见吻合\n",
    "+ 还有就是根据word2ve的原理也可以看出这样结果的合理性 训练的时候考虑上下文\n",
    "+ 而上下文有都是这样的关系 最终学的模型也现实这样的结果"
   ]
  },
  {
   "cell_type": "code",
   "execution_count": null,
   "metadata": {},
   "outputs": [],
   "source": []
  }
 ],
 "metadata": {
  "kernelspec": {
   "display_name": "Python 3",
   "language": "python",
   "name": "python3"
  },
  "language_info": {
   "codemirror_mode": {
    "name": "ipython",
    "version": 3
   },
   "file_extension": ".py",
   "mimetype": "text/x-python",
   "name": "python",
   "nbconvert_exporter": "python",
   "pygments_lexer": "ipython3",
   "version": "3.7.1"
  }
 },
 "nbformat": 4,
 "nbformat_minor": 2
}
